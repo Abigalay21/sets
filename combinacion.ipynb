{
 "cells": [
  {
   "cell_type": "markdown",
   "id": "84c7c3dd-f06b-400a-b9a1-e9a3d7aeb744",
   "metadata": {},
   "source": [
    "# Ejercicio-Sets"
   ]
  },
  {
   "cell_type": "code",
   "execution_count": 3,
   "id": "37c3f093-30eb-492a-805c-a867c5453657",
   "metadata": {},
   "outputs": [
    {
     "name": "stdout",
     "output_type": "stream",
     "text": [
      "{'A88', 'D6D', 'D22', 'DD5', 'DD6', '6DD', 'D88', 'AA0', '8B8', 'B22', 'BB8', 'A0A', 'A2A', 'D4D', 'DD1', 'D99', '1BB', '44B', 'D11', '444', '00D', '66A', '22D', '88A', 'D9D', 'AAA', '9CC', 'A44', '0CC', 'C1C', '999', 'B0B', '4DD', 'C11', 'CC1', 'BB3', 'BB5', 'B77', '77C', '99A', '3C3', 'CC0', '2CC', '3DD', '4B4', 'D00', 'D3D', '888', 'AA7', 'B44', '44C', '7C7', 'D8D', 'DD0', '33C', 'AA9', 'A22', 'A9A', '9DD', '6A6', '8CC', '5B5', '11A', 'C00', 'C0C', 'D0D', 'B6B', '0D0', 'CCC', 'C22', '6CC', 'B00', '2C2', '88D', 'C2C', '6D6', 'DDD', '5C5', 'CC6', 'D2D', 'DD8', '8D8', '2AA', '77D', '88C', 'BB0', 'D33', 'A6A', '22B', '77B', 'DD7', '9A9', '4A4', 'B7B', '6AA', 'B1B', 'D55', '99D', '3AA', 'CC3', '55B', '9B9', '0BB', '55C', 'A66', 'DD2', 'AA1', 'C55', 'D1D', 'BB9', '111', '1D1', '5DD', '66D', 'AA2', '6C6', 'B2B', 'A8A', 'C88', 'C44', '8A8', 'D77', '9BB', '5A5', 'C3C', '0C0', 'B8B', 'A33', 'B3B', '99B', '0AA', '3BB', '3D3', 'DD4', 'AA6', '8C8', '1AA', 'A7A', '7B7', '44A', '55A', '4CC', '7CC', 'B9B', '3B3', 'A55', '222', 'D7D', '000', 'A3A', 'B99', 'C5C', '7DD', 'C99', 'C9C', '22A', '4D4', 'B88', '55D', 'B33', '8DD', '0B0', '11D', 'A5A', 'CC5', '66C', 'B66', '333', '4BB', '66B', '7A7', 'A00', '0A0', '7AA', '777', 'C8C', 'BB6', 'BBB', 'D44', 'BB4', 'C33', '11C', '2BB', '00B', 'CC4', '2A2', '33A', '3CC', 'BB7', 'DD9', '7BB', 'A99', '8BB', 'B4B', 'AA3', '3A3', '00A', '88B', '99C', '5BB', 'BB1', 'D5D', 'C6C', '4AA', '555', 'B11', 'AA8', 'BB2', '44D', 'CC8', 'CC2', '1CC', 'A1A', 'C7C', '9C9', '22C', '1DD', '11B', '00C', 'AA5', '1B1', '6B6', '1A1', '7D7', 'AA4', '666', 'C66', 'A77', '33D', 'B55', '5CC', '9AA', '0DD', 'C77', '6BB', 'C4C', '77A', 'D66', '1C1', 'CC9', '33B', 'DD3', '8AA', 'A4A', 'A11', '5AA', 'CC7', '2B2', '5D5', 'B5B', '4C4', '9D9', '2D2', '2DD'}\n"
     ]
    }
   ],
   "source": [
    "numbers = ['0', '1', '2', '3', '4', '5', '6', '7', '8', '9'] \n",
    "letters = ['A', 'B', 'C', 'D'] \n",
    "unique_combinations = set() \n",
    "for number in numbers:   \n",
    "    for letter in letters:        \n",
    "        unique_combinations.add(\"{}{}{}\".format(number,number,number))        \n",
    "        unique_combinations.add(\"{}{}{}\".format(number,number,letter))       \n",
    "        unique_combinations.add(\"{}{}{}\".format(number,letter,number))       \n",
    "        unique_combinations.add(\"{}{}{}\".format(number,letter,letter))       \n",
    "        unique_combinations.add(\"{}{}{}\".format(letter,number,number))       \n",
    "        unique_combinations.add(\"{}{}{}\".format(letter,letter,number))       \n",
    "        unique_combinations.add(\"{}{}{}\".format(letter,number,letter))       \n",
    "        unique_combinations.add(\"{}{}{}\".format(letter,letter,letter))        \n",
    "print(unique_combinations)"
   ]
  },
  {
   "cell_type": "code",
   "execution_count": null,
   "id": "2cbfa1b8-7242-42b4-a061-2e6b03cd953a",
   "metadata": {},
   "outputs": [],
   "source": []
  }
 ],
 "metadata": {
  "kernelspec": {
   "display_name": "Python 3 (ipykernel)",
   "language": "python",
   "name": "python3"
  },
  "language_info": {
   "codemirror_mode": {
    "name": "ipython",
    "version": 3
   },
   "file_extension": ".py",
   "mimetype": "text/x-python",
   "name": "python",
   "nbconvert_exporter": "python",
   "pygments_lexer": "ipython3",
   "version": "3.12.5"
  }
 },
 "nbformat": 4,
 "nbformat_minor": 5
}
